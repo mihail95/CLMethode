{
 "cells": [
  {
   "cell_type": "markdown",
   "id": "7d57f1bf",
   "metadata": {},
   "source": [
    "# Warmup: Das Titanic Dataset\n",
    "Das Titanic Dataset ist eine klassische Übung fürs Machine Learning. Es basiert auf dem Seefahrtsunglück der RMS Titanic im Jahr 1912 und enthält Informationen über die Passagier:innen wie Alter, Geschlecht, Anzahl an Geschwister etc. und ob sie das Unglück überlebten oder nicht. Anhand dieser Informationen versucht man vorauszusagen ob ein:e Passagier:in das Unglück überlebte oder nicht.\n",
    "\n",
    "Die Daten werden als zwei CSV-Dateien bereitgestellt: train.csv und test.csv\n",
    "Das training set soll verwendet werden, um ein Machine Learning Modell zu erstellen, was dann auf das test set angewendet wird. Das test set stellt keine Daten zum Überleben der  Passagiere bereit.\n",
    "\n",
    "Legende\n",
    "\n",
    "|Variable|Definition|Schlüssel|\n",
    "|--------|----------|---------|\n",
    "|survival|Überleben|0 = Nein, 1 = Ja|\n",
    "|pclass|Ticketklasse|1 = 1., 2 = 2., 3 = 3.|\n",
    "|sex|Geschlecht||\n",
    "|Age|Alter in Jahren||\n",
    "|sibsp|Anzahl der<br>Geschwister/Partner||\n",
    "|parch|Anzahl an<br>Eltern/Kindern||\n",
    "|ticket|Ticketnummer||\n",
    "|fare|Fahrpreis||\n",
    "|cabin|Kabinennummer||\n",
    "|embarked|Abfahrtshafen|C = Cherbourg, Q = Queenstown,<br>S = Southampton|\n",
    "\n",
    "##### weitere Erläuterungen\n",
    "*pclass*: Ersatz für sozio-ökonomischen Status<br>\n",
    "*age*: Angegeben in Anteil wenn kleiner 1. Wenn es geschätzt wurde wird es als xx.5 dargestellt<br>\n",
    "\n"
   ]
  },
  {
   "cell_type": "markdown",
   "id": "608ddb98",
   "metadata": {},
   "source": [
    "### Einlesen\n",
    "Um die Daten weiter mit Python zu verarbeiten/analysieren, müssen diese eingelesen werden. Als Übung lesen wir sie in drei verschieden Formen ein: "
   ]
  },
  {
   "cell_type": "markdown",
   "id": "4fca9b32",
   "metadata": {},
   "source": [
    "als Liste von Listen:"
   ]
  },
  {
   "cell_type": "code",
   "execution_count": null,
   "id": "b98766fb",
   "metadata": {},
   "outputs": [],
   "source": [
    "train_list = []\n",
    "test_list = []\n",
    "\n",
    "\n",
    "\n"
   ]
  },
  {
   "cell_type": "markdown",
   "id": "2fafe9e2",
   "metadata": {},
   "source": [
    "als nested dictionary:"
   ]
  },
  {
   "cell_type": "code",
   "execution_count": null,
   "id": "dff2a730",
   "metadata": {},
   "outputs": [],
   "source": [
    "train_dict = {}\n",
    "test_dict = {}\n",
    "\n",
    "\n",
    "\n",
    "\n"
   ]
  },
  {
   "cell_type": "markdown",
   "id": "cd1489d8",
   "metadata": {},
   "source": [
    "als pandas Dataframe:"
   ]
  },
  {
   "cell_type": "code",
   "execution_count": null,
   "id": "e2373b9f",
   "metadata": {},
   "outputs": [],
   "source": [
    "import pandas as pd\n",
    "\n",
    "\n",
    "\n",
    "\n"
   ]
  },
  {
   "cell_type": "markdown",
   "id": "990e7045",
   "metadata": {},
   "source": [
    "## Fehlende Werte\n",
    "Beim Einlesen/Sichten der Daten stellt man fest, dass nicht alle Spalten ausgefüllt worden sind. Um zu sehen, wovon wie viel fehlt, bietet es sich an, die Trainings- und Test-Daten zusammenzuführen. Dann kann man sich die fehlenden Werte pro Spalte ausgeben lassen. Probiert das mit einem der Datenformate aus (wer früher fertig ist, kann es in einem weiteren Datenformat zählen und die Werte vergleichen):"
   ]
  },
  {
   "cell_type": "code",
   "execution_count": null,
   "id": "730fce96",
   "metadata": {},
   "outputs": [],
   "source": [
    "# hier die fehlenden Werte zählen\n",
    "\n",
    "\n",
    "\n"
   ]
  },
  {
   "cell_type": "markdown",
   "id": "05768d69",
   "metadata": {},
   "source": [
    "## Leerstellen füllen\n",
    "Um sauber mit den Daten weiterzuarbeiten kann man fehlende Datenpunkte mit etwas ersetzen. Am einfachsten ist es, einen Platzhalter einzufügen, aber das führt eine neue Kategorie ein. Eine Alternative ist, die Leerstellen mit dem häufigsten Wert, dem Durchschnitt oder dem Mittelwert der Kategorie zu füllen. Oder sogar noch feiner mit einem Wert, der aus einer Gruppierung anhand einer anderen Spalte berechnet wird."
   ]
  },
  {
   "cell_type": "code",
   "execution_count": null,
   "id": "b72b3ca6",
   "metadata": {},
   "outputs": [],
   "source": [
    "# hier die Leerstellen in einem der Datenformate ersetzen\n",
    "\n",
    "\n",
    "\n"
   ]
  }
 ],
 "metadata": {
  "kernelspec": {
   "display_name": "Python 3 (ipykernel)",
   "language": "python",
   "name": "python3"
  },
  "language_info": {
   "codemirror_mode": {
    "name": "ipython",
    "version": 3
   },
   "file_extension": ".py",
   "mimetype": "text/x-python",
   "name": "python",
   "nbconvert_exporter": "python",
   "pygments_lexer": "ipython3",
   "version": "3.10.10"
  }
 },
 "nbformat": 4,
 "nbformat_minor": 5
}
