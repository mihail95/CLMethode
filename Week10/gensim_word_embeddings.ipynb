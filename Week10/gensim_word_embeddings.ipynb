{
 "cells": [
  {
   "cell_type": "markdown",
   "id": "a78f748d",
   "metadata": {},
   "source": [
    "# Word Embeddings\n",
    "## mit Gensim (v. 4.3.2)"
   ]
  },
  {
   "cell_type": "markdown",
   "id": "587905ab",
   "metadata": {},
   "source": [
    "Siehe Dokumentation: https://radimrehurek.com/gensim/models/word2vec.html"
   ]
  },
  {
   "cell_type": "code",
   "execution_count": null,
   "id": "7c4522c3",
   "metadata": {},
   "outputs": [],
   "source": [
    "#!pip install --upgrade gensim\n",
    "#!pip install --upgrade wikipedia #https://www.thepythoncode.com/article/access-wikipedia-python "
   ]
  },
  {
   "cell_type": "code",
   "execution_count": 1,
   "id": "1e055e76",
   "metadata": {},
   "outputs": [],
   "source": [
    "from gensim.test.utils import common_texts\n",
    "from gensim.models import Word2Vec\n",
    "from gensim.models import KeyedVectors\n",
    "\n",
    "import wikipedia\n",
    "import numpy as np"
   ]
  },
  {
   "cell_type": "markdown",
   "id": "176e2616",
   "metadata": {},
   "source": [
    "### Ein neues Modell trainieren\n",
    "Hier mit Spielzeugdaten"
   ]
  },
  {
   "cell_type": "code",
   "execution_count": 2,
   "id": "118421a4",
   "metadata": {},
   "outputs": [],
   "source": [
    "model = Word2Vec(sentences=common_texts, vector_size=100, window=5, min_count=1, workers=4)"
   ]
  },
  {
   "cell_type": "markdown",
   "id": "b1371bda",
   "metadata": {},
   "source": [
    "Wie müssen also die Inputdaten für Word2Vec aussehen?"
   ]
  },
  {
   "cell_type": "code",
   "execution_count": 3,
   "id": "c1797217",
   "metadata": {},
   "outputs": [
    {
     "name": "stdout",
     "output_type": "stream",
     "text": [
      "[['human', 'interface', 'computer'], ['survey', 'user', 'computer', 'system', 'response', 'time'], ['eps', 'user', 'interface', 'system'], ['system', 'human', 'system', 'eps'], ['user', 'response', 'time'], ['trees'], ['graph', 'trees'], ['graph', 'minors', 'trees'], ['graph', 'minors', 'survey']]\n"
     ]
    }
   ],
   "source": [
    "print(common_texts)"
   ]
  },
  {
   "cell_type": "markdown",
   "id": "d3d5dfd5",
   "metadata": {},
   "source": [
    "Wofür sind die folgenden Parameter?\n",
    "* vector_size\n",
    "* window\n",
    "* min_count\n",
    "* workers  "
   ]
  },
  {
   "cell_type": "code",
   "execution_count": 4,
   "id": "f5235be4",
   "metadata": {},
   "outputs": [],
   "source": [
    "#Modelle können abgespeichert und wieder geladen werden\n",
    "model.save(\"word2vec.model\")\n",
    "model = Word2Vec.load(\"word2vec.model\")"
   ]
  },
  {
   "cell_type": "markdown",
   "id": "6b7a2aa3",
   "metadata": {},
   "source": [
    "\"The trained word vectors are stored in a KeyedVectors instance, as model.wv:\" "
   ]
  },
  {
   "cell_type": "code",
   "execution_count": 5,
   "id": "9b8e0de8",
   "metadata": {},
   "outputs": [
    {
     "name": "stdout",
     "output_type": "stream",
     "text": [
      "[-0.00515774 -0.00667028 -0.0077791   0.00831315 -0.00198292 -0.00685696\n",
      " -0.0041556   0.00514562 -0.00286997 -0.00375075  0.0016219  -0.0027771\n",
      " -0.00158482  0.0010748  -0.00297881  0.00852176  0.00391207 -0.00996176\n",
      "  0.00626142 -0.00675622  0.00076966  0.00440552 -0.00510486 -0.00211128\n",
      "  0.00809783 -0.00424503 -0.00763848  0.00926061 -0.00215612 -0.00472081\n",
      "  0.00857329  0.00428459  0.0043261   0.00928722 -0.00845554  0.00525685\n",
      "  0.00203994  0.0041895   0.00169839  0.00446543  0.0044876   0.0061063\n",
      " -0.00320303 -0.00457706 -0.00042664  0.00253447 -0.00326412  0.00605948\n",
      "  0.00415534  0.00776685  0.00257002  0.00811905 -0.00138761  0.00808028\n",
      "  0.0037181  -0.00804967 -0.00393476 -0.0024726   0.00489447 -0.00087241\n",
      " -0.00283173  0.00783599  0.00932561 -0.0016154  -0.00516075 -0.00470313\n",
      " -0.00484746 -0.00960562  0.00137242 -0.00422615  0.00252744  0.00561612\n",
      " -0.00406709 -0.00959937  0.00154715 -0.00670207  0.0024959  -0.00378173\n",
      "  0.00708048  0.00064041  0.00356198 -0.00273993 -0.00171105  0.00765502\n",
      "  0.00140809 -0.00585215 -0.00783678  0.00123305  0.00645651  0.00555797\n",
      " -0.00897966  0.00859466  0.00404816  0.00747178  0.00974917 -0.0072917\n",
      " -0.00904259  0.0058377   0.00939395  0.00350795]\n"
     ]
    }
   ],
   "source": [
    "vector = model.wv['computer']\n",
    "print(vector)"
   ]
  },
  {
   "cell_type": "code",
   "execution_count": 6,
   "id": "37b40a14",
   "metadata": {
    "scrolled": true
   },
   "outputs": [
    {
     "name": "stdout",
     "output_type": "stream",
     "text": [
      "KeyedVectors<vector_size=100, 12 keys>\n"
     ]
    }
   ],
   "source": [
    "print(model.wv)"
   ]
  },
  {
   "cell_type": "markdown",
   "id": "9ece5ccd",
   "metadata": {},
   "source": [
    "Was sind die Keys?"
   ]
  },
  {
   "cell_type": "code",
   "execution_count": 7,
   "id": "c7080b13",
   "metadata": {
    "scrolled": true
   },
   "outputs": [
    {
     "name": "stdout",
     "output_type": "stream",
     "text": [
      "{'system': 0, 'graph': 1, 'trees': 2, 'user': 3, 'minors': 4, 'eps': 5, 'time': 6, 'response': 7, 'survey': 8, 'computer': 9, 'interface': 10, 'human': 11}\n"
     ]
    }
   ],
   "source": [
    "print(model.wv.key_to_index)"
   ]
  },
  {
   "cell_type": "markdown",
   "id": "b5a80dec",
   "metadata": {},
   "source": [
    "\"If you don’t need the full model state any more (don’t need to continue training), its state can be discarded, keeping just the vectors and their keys proper. This results in a much smaller and faster object that can be mmapped for lightning fast loading and sharing the vectors in RAM between processes:\""
   ]
  },
  {
   "cell_type": "code",
   "execution_count": 8,
   "id": "5c6a4534",
   "metadata": {},
   "outputs": [],
   "source": [
    "# Store just the words + their trained embeddings.\n",
    "word_vectors = model.wv\n",
    "word_vectors.save(\"word2vec.wordvectors\")\n",
    "# Load back with memory-mapping = read-only, shared across processes.\n",
    "wv = KeyedVectors.load(\"word2vec.wordvectors\", mmap='r')\n",
    "vector = wv['computer']  # Get numpy vector of a word\n",
    "del model"
   ]
  },
  {
   "cell_type": "markdown",
   "id": "c323eb41",
   "metadata": {},
   "source": [
    "### Exploring Embeddings"
   ]
  },
  {
   "cell_type": "markdown",
   "id": "8157055b",
   "metadata": {},
   "source": [
    "Documentation: https://radimrehurek.com/gensim/models/keyedvectors.html \n",
    "\n",
    "Was machen die Funktionen jeweils?"
   ]
  },
  {
   "cell_type": "code",
   "execution_count": 17,
   "id": "fa97de5d",
   "metadata": {},
   "outputs": [
    {
     "data": {
      "text/plain": [
       "[('system', 0.21617139875888824),\n",
       " ('survey', 0.04468922317028046),\n",
       " ('interface', 0.015203381888568401),\n",
       " ('time', 0.0019510635174810886),\n",
       " ('trees', -0.03284316882491112),\n",
       " ('human', -0.07424270361661911),\n",
       " ('response', -0.09317591041326523),\n",
       " ('graph', -0.09575342386960983),\n",
       " ('eps', -0.10513808578252792),\n",
       " ('user', -0.16911619901657104)]"
      ]
     },
     "execution_count": 17,
     "metadata": {},
     "output_type": "execute_result"
    }
   ],
   "source": [
    "wv.most_similar('computer', topn=10)"
   ]
  },
  {
   "cell_type": "code",
   "execution_count": 10,
   "id": "0bf1caf1",
   "metadata": {},
   "outputs": [
    {
     "data": {
      "text/plain": [
       "['system', 'time', 'survey', 'interface']"
      ]
     },
     "execution_count": 10,
     "metadata": {},
     "output_type": "execute_result"
    }
   ],
   "source": [
    "wv.closer_than('computer', 'trees')"
   ]
  },
  {
   "cell_type": "code",
   "execution_count": 11,
   "id": "86f879ab",
   "metadata": {},
   "outputs": [
    {
     "data": {
      "text/plain": [
       "0.21617141"
      ]
     },
     "execution_count": 11,
     "metadata": {},
     "output_type": "execute_result"
    }
   ],
   "source": [
    "wv.similarity('computer', 'system')"
   ]
  },
  {
   "cell_type": "code",
   "execution_count": 12,
   "id": "60e40595",
   "metadata": {},
   "outputs": [
    {
     "data": {
      "text/plain": [
       "0.7838285863399506"
      ]
     },
     "execution_count": 12,
     "metadata": {},
     "output_type": "execute_result"
    }
   ],
   "source": [
    "wv.distance('computer', 'system')"
   ]
  },
  {
   "cell_type": "code",
   "execution_count": 13,
   "id": "b77f30ab",
   "metadata": {},
   "outputs": [
    {
     "data": {
      "text/plain": [
       "'computer'"
      ]
     },
     "execution_count": 13,
     "metadata": {},
     "output_type": "execute_result"
    }
   ],
   "source": [
    "wv.doesnt_match(['computer'])"
   ]
  },
  {
   "cell_type": "code",
   "execution_count": 14,
   "id": "3920ae2b",
   "metadata": {},
   "outputs": [
    {
     "data": {
      "text/plain": [
       "{'system': 0,\n",
       " 'graph': 1,\n",
       " 'trees': 2,\n",
       " 'user': 3,\n",
       " 'minors': 4,\n",
       " 'eps': 5,\n",
       " 'time': 6,\n",
       " 'response': 7,\n",
       " 'survey': 8,\n",
       " 'computer': 9,\n",
       " 'interface': 10,\n",
       " 'human': 11}"
      ]
     },
     "execution_count": 14,
     "metadata": {},
     "output_type": "execute_result"
    }
   ],
   "source": [
    "wv.key_to_index"
   ]
  },
  {
   "cell_type": "code",
   "execution_count": 15,
   "id": "6bfc8087",
   "metadata": {},
   "outputs": [
    {
     "data": {
      "text/plain": [
       "['system',\n",
       " 'graph',\n",
       " 'trees',\n",
       " 'user',\n",
       " 'minors',\n",
       " 'eps',\n",
       " 'time',\n",
       " 'response',\n",
       " 'survey',\n",
       " 'computer',\n",
       " 'interface',\n",
       " 'human']"
      ]
     },
     "execution_count": 15,
     "metadata": {},
     "output_type": "execute_result"
    }
   ],
   "source": [
    "wv.index_to_key"
   ]
  },
  {
   "cell_type": "markdown",
   "id": "5a11a02f",
   "metadata": {},
   "source": [
    "### Vortrainierte Embeddings laden"
   ]
  },
  {
   "cell_type": "markdown",
   "id": "b98c3b9c",
   "metadata": {},
   "source": [
    "Jetzt schauen wir uns mal \"echte Embeddings\" an, die auf großen Datenmengen trainiert wurden.  \n",
    "Laden Sie **deutsche** FastText Embeddings herunter: https://fasttext.cc/docs/en/crawl-vectors.html#models (txt format)  \n",
    "Achtung: Die Datei ist etwa 1.3 GB groß und wird als gezippte Datei heruntergeladen (.gz), die zunächst entpackt werden muss. Die resultierende Datei ist dann etwa 4.5 GB groß.\n",
    "\n",
    "**FastText**: \"We distribute pre-trained word vectors for 157 languages, trained on Common Crawl and Wikipedia using fastText. These models were trained using CBOW with position-weights, in dimension 300, with character n-grams of length 5, a window of size 5 and 10 negatives.\"\n",
    "\n",
    "Training auf Character N-Grammen bedeutet: Auch Wörter mit Rechtschreibfehlern können erkannt werden!"
   ]
  },
  {
   "cell_type": "code",
   "execution_count": 18,
   "id": "d0e143cc",
   "metadata": {},
   "outputs": [],
   "source": [
    "#Wir laden hier nur die ersten 100,000 Vektoren um Ladezeit zu sparen\n",
    "wv = KeyedVectors.load_word2vec_format(\"cc.de.300.vec\", limit=100000)"
   ]
  },
  {
   "cell_type": "code",
   "execution_count": 19,
   "id": "c44a469a",
   "metadata": {},
   "outputs": [
    {
     "data": {
      "text/plain": [
       "100000"
      ]
     },
     "execution_count": 19,
     "metadata": {},
     "output_type": "execute_result"
    }
   ],
   "source": [
    "len(wv.index_to_key)"
   ]
  },
  {
   "cell_type": "code",
   "execution_count": 20,
   "id": "537011c4",
   "metadata": {},
   "outputs": [
    {
     "data": {
      "text/plain": [
       "[('Dortmund', 0.7903062701225281),\n",
       " ('Bielefeld', 0.785017728805542),\n",
       " ('Gelsenkirchen', 0.7421029210090637),\n",
       " ('Duisburg', 0.7412689328193665),\n",
       " ('Herne', 0.7374927997589111),\n",
       " ('Bottrop', 0.7231398224830627),\n",
       " ('Hattingen', 0.7158040404319763),\n",
       " ('Recklinghausen', 0.7055079340934753),\n",
       " ('Gladbeck', 0.7039979100227356),\n",
       " ('Wattenscheid', 0.691122829914093)]"
      ]
     },
     "execution_count": 20,
     "metadata": {},
     "output_type": "execute_result"
    }
   ],
   "source": [
    "wv.most_similar(\"Bochum\")"
   ]
  },
  {
   "cell_type": "code",
   "execution_count": null,
   "id": "d4653bb9",
   "metadata": {},
   "outputs": [],
   "source": [
    "#wv.most_similar(\"Bohcum\")"
   ]
  },
  {
   "cell_type": "markdown",
   "id": "28ab0007",
   "metadata": {},
   "source": [
    "Out-of-vocabulary words can only be obtained when downloading the bin-files rather than txt-files"
   ]
  },
  {
   "cell_type": "code",
   "execution_count": 21,
   "id": "7e91115a",
   "metadata": {},
   "outputs": [
    {
     "data": {
      "text/plain": [
       "[('Altona', 0.7558231353759766),\n",
       " ('Bergedorf', 0.7234967350959778),\n",
       " ('Bremen', 0.7169299721717834),\n",
       " ('Lüneburg', 0.7042407393455505),\n",
       " ('Berlin', 0.7024208307266235),\n",
       " ('Wandsbek', 0.7005006074905396),\n",
       " ('Norderstedt', 0.6989949345588684),\n",
       " ('Kiel', 0.6943677663803101),\n",
       " ('Lübeck', 0.6940171718597412),\n",
       " ('Harburg', 0.6926769614219666)]"
      ]
     },
     "execution_count": 21,
     "metadata": {},
     "output_type": "execute_result"
    }
   ],
   "source": [
    "wv.most_similar(\"Hamburg\")"
   ]
  },
  {
   "cell_type": "code",
   "execution_count": 24,
   "id": "77651982",
   "metadata": {},
   "outputs": [
    {
     "data": {
      "text/plain": [
       "'Dezember'"
      ]
     },
     "execution_count": 24,
     "metadata": {},
     "output_type": "execute_result"
    }
   ],
   "source": [
    "wv.doesnt_match([\"Montag\", \"Dienstag\", \"Donnerstag\", \"Dezember\"])"
   ]
  },
  {
   "cell_type": "code",
   "execution_count": 25,
   "id": "07ec25a8",
   "metadata": {},
   "outputs": [
    {
     "data": {
      "text/plain": [
       "'Kirsche'"
      ]
     },
     "execution_count": 25,
     "metadata": {},
     "output_type": "execute_result"
    }
   ],
   "source": [
    "wv.doesnt_match([\"Apfel\", \"Banane\", \"Kirsche\", \"Kartoffel\"])"
   ]
  },
  {
   "cell_type": "code",
   "execution_count": 26,
   "id": "44d0ae0d",
   "metadata": {},
   "outputs": [
    {
     "data": {
      "text/plain": [
       "[('Italien', 0.7758052349090576),\n",
       " ('Spanien', 0.6313459277153015),\n",
       " ('Latium', 0.6121785044670105),\n",
       " ('Griechenland', 0.5853964686393738),\n",
       " ('Süditalien', 0.5821914076805115),\n",
       " ('Norditalien', 0.5806383490562439),\n",
       " ('Deutschland', 0.5620588064193726),\n",
       " ('Roms', 0.5564154386520386),\n",
       " ('Italiens', 0.5485419631004333),\n",
       " ('Kirchenstaat', 0.5464210510253906)]"
      ]
     },
     "execution_count": 26,
     "metadata": {},
     "output_type": "execute_result"
    }
   ],
   "source": [
    "wv.most_similar(positive=['Frankreich', 'Rom'], negative=['Paris'])"
   ]
  },
  {
   "cell_type": "markdown",
   "id": "d3ebfc34",
   "metadata": {},
   "source": [
    "Auf die Reihenfolge achten!"
   ]
  },
  {
   "attachments": {
    "image.png": {
     "image/png": "[encoded data removed]"
    }
   },
   "cell_type": "markdown",
   "id": "890b5d86",
   "metadata": {},
   "source": [
    "![image.png](attachment:image.png)\n",
    "Quelle: https://medium.com/swlh/playing-with-word-vectors-308ab2faa519"
   ]
  },
  {
   "cell_type": "markdown",
   "id": "f6735510",
   "metadata": {},
   "source": [
    "**Aufgabe**: Bilden Sie die folgende Analogie: Koch - männlich, X - weiblich"
   ]
  },
  {
   "cell_type": "code",
   "execution_count": 28,
   "id": "6e122ba0",
   "metadata": {},
   "outputs": [
    {
     "data": {
      "text/plain": [
       "[('Köchin', 0.6477569937705994),\n",
       " ('Kellner', 0.6103442311286926),\n",
       " ('Kochs', 0.6044445037841797),\n",
       " ('Schmidt', 0.5862055420875549),\n",
       " ('Schneider', 0.5827876925468445),\n",
       " ('Köhler', 0.5792646408081055),\n",
       " ('Zimmermann', 0.5751679539680481),\n",
       " ('Küchenchef', 0.5742059350013733),\n",
       " ('Lehmann', 0.5691910982131958),\n",
       " ('Gerlach', 0.5630943179130554)]"
      ]
     },
     "execution_count": 28,
     "metadata": {},
     "output_type": "execute_result"
    }
   ],
   "source": [
    "#Lösung\n",
    "wv.most_similar(positive=['Koch', 'weiblich'], negative=['männlich'])"
   ]
  },
  {
   "cell_type": "markdown",
   "id": "e1d0ae58",
   "metadata": {},
   "source": [
    "**Aufgabe**: Bilden Sie die folgende Analogie: Hausfrau - Frau, X - Mann \\\n",
    "oder: Hausfrau - weiblich, X - männlich"
   ]
  },
  {
   "cell_type": "code",
   "execution_count": 29,
   "id": "5c78ec1c",
   "metadata": {},
   "outputs": [
    {
     "data": {
      "text/plain": [
       "[('Hausfrauen', 0.6236591935157776),\n",
       " ('Familienvater', 0.6016473770141602),\n",
       " ('Kerl', 0.5521509051322937),\n",
       " ('Rentner', 0.5439653992652893),\n",
       " ('Geschäftsmann', 0.5377076268196106),\n",
       " ('Ehemann', 0.5348390936851501),\n",
       " ('Haushalt', 0.525500476360321),\n",
       " ('Elektriker', 0.522422730922699),\n",
       " ('Handwerker', 0.5205515027046204),\n",
       " ('Vater', 0.5066394805908203)]"
      ]
     },
     "execution_count": 29,
     "metadata": {},
     "output_type": "execute_result"
    }
   ],
   "source": [
    "# Lösung\n",
    "wv.most_similar(positive=['Hausfrau', 'Mann'], negative=['Frau'])"
   ]
  },
  {
   "cell_type": "markdown",
   "id": "0fbc2366",
   "metadata": {},
   "source": [
    "**Mittleren Vektor bestimmen**"
   ]
  },
  {
   "cell_type": "code",
   "execution_count": 30,
   "id": "6d19a733",
   "metadata": {},
   "outputs": [],
   "source": [
    "words = [\"Hauptstadt\", \"Deutschland\"]\n",
    "vec = wv.get_mean_vector(words)"
   ]
  },
  {
   "cell_type": "code",
   "execution_count": 31,
   "id": "290b5cce",
   "metadata": {},
   "outputs": [
    {
     "data": {
      "text/plain": [
       "[('Deutschland', 0.8027850389480591),\n",
       " ('Hauptstadt', 0.8027849793434143),\n",
       " ('Bundesrepublik', 0.6924480199813843),\n",
       " ('Deutschlands', 0.6702033877372742),\n",
       " ('Bundeshauptstadt', 0.6667576432228088),\n",
       " ('Berlin', 0.6532673239707947),\n",
       " ('Metropole', 0.6397574543952942),\n",
       " ('Europa', 0.6315183043479919),\n",
       " ('Landeshauptstadt', 0.6278564929962158),\n",
       " ('Republik', 0.6275584697723389)]"
      ]
     },
     "execution_count": 31,
     "metadata": {},
     "output_type": "execute_result"
    }
   ],
   "source": [
    "wv.similar_by_vector(vec)"
   ]
  },
  {
   "cell_type": "markdown",
   "id": "394a3d8a",
   "metadata": {},
   "source": [
    "## Aufgabe:\n",
    "Lassen Sie den Computer mithilfe von Word Embeddings folgende Fragen beantworten:\n",
    "- ` Wann wurde die RUB gegründet ?`  \n",
    "- ` Seit wann gibt es keine Studiengebühren mehr ?`\n",
    "- ` Welche Gerüchte gibt es über die RUB  ?`  \n",
    "\n",
    "Der Computer darf dafür auch im Wikipedia-Artikel über die RUB nachschlagen... :)  \n",
    "Es reicht, wenn der Computer einen Satz zurückliefert, in dem die richtige Antwort enthalten ist.\n",
    "\n",
    "Tipp: Auch für ganze Sätze kann man einen mittleren Vektor bestimmen."
   ]
  },
  {
   "cell_type": "markdown",
   "id": "ca2fb20a",
   "metadata": {},
   "source": [
    "#### Zugriff auf einen Wikipedia-Artikel"
   ]
  },
  {
   "cell_type": "code",
   "execution_count": 32,
   "id": "1426d121",
   "metadata": {},
   "outputs": [],
   "source": [
    "wikipedia.set_lang('de')"
   ]
  },
  {
   "cell_type": "code",
   "execution_count": null,
   "id": "7f0f7ad9",
   "metadata": {},
   "outputs": [],
   "source": [
    "rub = wikipedia.search(\"Ruhr-Universität Bochum\")\n",
    "rub"
   ]
  },
  {
   "cell_type": "code",
   "execution_count": 34,
   "id": "1a561a9a",
   "metadata": {},
   "outputs": [],
   "source": [
    "article = wikipedia.page(\"Ruhr-Universität Bochum\")"
   ]
  },
  {
   "cell_type": "code",
   "execution_count": null,
   "id": "f9336c41",
   "metadata": {},
   "outputs": [],
   "source": [
    "article.content"
   ]
  },
  {
   "cell_type": "code",
   "execution_count": 49,
   "id": "8d67588d",
   "metadata": {},
   "outputs": [],
   "source": [
    "# Your code goes here\n",
    "from nltk import sent_tokenize\n",
    "from nltk import word_tokenize\n",
    "from nltk.corpus import stopwords\n",
    "from gensim.models import Word2Vec\n",
    "from gensim.models import KeyedVectors\n",
    "import numpy as np\n",
    "import wikipedia\n",
    "import re\n",
    "\n",
    "# Load our word vectors\n",
    "wv = KeyedVectors.load_word2vec_format(\"cc.de.300.vec\", limit=100000)"
   ]
  },
  {
   "cell_type": "code",
   "execution_count": 46,
   "id": "7e71f542",
   "metadata": {},
   "outputs": [],
   "source": [
    "# Create an array of questions\n",
    "questions = ['Wann wurde die RUB gegründet', 'Seit wann gibt es keine Studiengebühren mehr', 'Welche Gerüchte gibt es über die RUB']\n",
    "\n",
    "# Remove question marks\n",
    "for idx, question in enumerate(questions):\n",
    "    questions[idx] = question.replace(\"?\", \"\")\n",
    "\n",
    "tokenizedQuestions = [word_tokenize(question, language='german') for question in questions]\n",
    "\n",
    "# Vectorize each question by computing the mean of all words in it \n",
    "questionVectors = [wv.get_mean_vector(question) for question in tokenizedQuestions]"
   ]
  },
  {
   "cell_type": "code",
   "execution_count": 53,
   "id": "a8957f47",
   "metadata": {},
   "outputs": [],
   "source": [
    "# Create two parallel lists of sentences and sentence vectors from all RUB wikipedia articles\n",
    "wikipedia.set_lang('de')\n",
    "articleNames = wikipedia.search(\"Ruhr-Universität Bochum\")\n",
    "\n",
    "sentences = []\n",
    "# Itterate over all RUB articles to gather the sentences\n",
    "for articleName in articleNames:\n",
    "    article = wikipedia.page(articleName)\n",
    "    # Clean up the article (remove Section names and tabs)\n",
    "    text = re.sub(r'==.*==',' ', article.content)\n",
    "    text = text.replace(\"\\t\",\" \"). replace(\"\\n\", \" \")\n",
    "    # Split the article into sentences and append them to the sentence list\n",
    "    sentences.extend(sent_tokenize(text, language='german'))\n",
    "\n",
    "tokenizedSentences = [word_tokenize(sentence, language='german') for sentence in sentences]\n",
    "\n",
    "# Vectorize each sentence\n",
    "sentenceVectors = [wv.get_mean_vector(sentenceTokens) for sentenceTokens in tokenizedSentences]"
   ]
  },
  {
   "cell_type": "code",
   "execution_count": 54,
   "id": "ddecd3c1",
   "metadata": {},
   "outputs": [
    {
     "name": "stdout",
     "output_type": "stream",
     "text": [
      "Wann wurde die RUB gegründet ?\n",
      "Die meisten Hochschulen sind jedoch in den 1960er und 1970er Jahren gegründet worden: 1962 wurde die Ruhr-Universität Bochum gegründet, 1968 die Universität Dortmund.\n",
      "\n",
      "\n",
      "Seit wann gibt es keine Studiengebühren mehr ?\n",
      "Zum Wintersemester 2011/12 fielen die Studiengebühren in NRW weg, sodass seitdem nur noch der Sozialbeitrag zu zahlen ist.\n",
      "\n",
      "\n",
      "Welche Gerüchte gibt es über die RUB ?\n",
      "Auf einer Karte betrachtet könnte man das Ruhrgebiet für eine einzige Großstadt halten, da es, zumindest in der West-Ost-Ausdehnung, keine erkennbaren Grenzen zwischen den einzelnen Städten gibt.\n",
      "\n",
      "\n"
     ]
    }
   ],
   "source": [
    "# Find the nearest sentence vector to each question vector\n",
    "for idx, qVector in enumerate(questionVectors):\n",
    "    cosSimilarities = wv.cosine_similarities(qVector, sentenceVectors)\n",
    "    # print(np.argmax(cosSimilarities))\n",
    "    print(questions[idx], \"?\")\n",
    "    print(sentences[np.argmax(cosSimilarities)])\n",
    "    print(\"\\n\")"
   ]
  },
  {
   "cell_type": "markdown",
   "id": "7df31c98",
   "metadata": {},
   "source": [
    "### Weitere Infos"
   ]
  },
  {
   "cell_type": "markdown",
   "id": "17126bf0",
   "metadata": {},
   "source": [
    "Einigie Datensätze oder sogar vortrainierte Modelle (fürs Englische!) können direkt über Gensim heruntergeladen werden, siehe: https://github.com/RaRe-Technologies/gensim-data "
   ]
  },
  {
   "cell_type": "code",
   "execution_count": null,
   "id": "fc3ca430",
   "metadata": {},
   "outputs": [],
   "source": [
    "import gensim.downloader as api\n",
    "api.info()  # show info about available models/datasets"
   ]
  },
  {
   "cell_type": "code",
   "execution_count": null,
   "id": "da49f0cd",
   "metadata": {},
   "outputs": [],
   "source": [
    "model = api.load(\"glove-twitter-25\")  # download the model and return as object ready for use"
   ]
  },
  {
   "cell_type": "code",
   "execution_count": null,
   "id": "ee8f22f0",
   "metadata": {},
   "outputs": [],
   "source": [
    "model.most_similar(\"cat\")"
   ]
  },
  {
   "cell_type": "code",
   "execution_count": null,
   "id": "f40e0188",
   "metadata": {},
   "outputs": [],
   "source": []
  }
 ],
 "metadata": {
  "kernelspec": {
   "display_name": "Python 3.10.5 64-bit",
   "language": "python",
   "name": "python3"
  },
  "language_info": {
   "codemirror_mode": {
    "name": "ipython",
    "version": 3
   },
   "file_extension": ".py",
   "mimetype": "text/x-python",
   "name": "python",
   "nbconvert_exporter": "python",
   "pygments_lexer": "ipython3",
   "version": "3.10.5"
  },
  "vscode": {
   "interpreter": {
    "hash": "a9f0fdfe5057a42a05fc3017f4ebde7b7d2cab75233ba3a4404e1316b9f736d1"
   }
  }
 },
 "nbformat": 4,
 "nbformat_minor": 5
}
